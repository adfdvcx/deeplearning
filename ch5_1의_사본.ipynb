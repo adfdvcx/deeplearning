{
  "nbformat": 4,
  "nbformat_minor": 0,
  "metadata": {
    "colab": {
      "provenance": [],
      "authorship_tag": "ABX9TyM3RuAkujrz7XugNthCl9RQ",
      "include_colab_link": true
    },
    "kernelspec": {
      "name": "python3",
      "display_name": "Python 3"
    },
    "language_info": {
      "name": "python"
    }
  },
  "cells": [
    {
      "cell_type": "markdown",
      "metadata": {
        "id": "view-in-github",
        "colab_type": "text"
      },
      "source": [
        "<a href=\"https://colab.research.google.com/github/adfdvcx/deeplearning/blob/main/ch5_1%EC%9D%98_%EC%82%AC%EB%B3%B8.ipynb\" target=\"_parent\"><img src=\"https://colab.research.google.com/assets/colab-badge.svg\" alt=\"Open In Colab\"/></a>"
      ]
    },
    {
      "cell_type": "code",
      "execution_count": null,
      "metadata": {
        "id": "c-9bLgu2wPMb"
      },
      "outputs": [],
      "source": [
        "import numpy as np\n",
        "import tensorflow\n",
        "from tensorflow import keras\n",
        "\n",
        "!pip install import_ipynb\n",
        "import import_ipynb\n",
        "from google.colab import drive\n",
        "drive.mount('/content/drive')\n",
        "%cd /content/drive/MyDrive/Colab Notebooks/DLFS"
      ]
    },
    {
      "cell_type": "code",
      "source": [
        "from functions import *"
      ],
      "metadata": {
        "colab": {
          "base_uri": "https://localhost:8080/"
        },
        "id": "UHHLcHqcGrsX",
        "outputId": "1c791eaa-952f-46ac-a18b-dff02c70df74"
      },
      "execution_count": null,
      "outputs": [
        {
          "output_type": "stream",
          "name": "stdout",
          "text": [
            "importing Jupyter notebook from functions.ipynb\n"
          ]
        }
      ]
    },
    {
      "cell_type": "code",
      "source": [
        "mnist = keras.datasets.mnist\n",
        "(x_train, y_train), (x_test, y_test) = mnist.load_data()\n",
        "x_train = (x_train/255).reshape(-1,784)\n",
        "x_test = (x_test/255).reshape(-1,784)\n",
        "y_train = one_hot_encoding(y_train)\n",
        "y_test = one_hot_encoding(y_test)"
      ],
      "metadata": {
        "id": "Wr-YQiocwumf",
        "colab": {
          "base_uri": "https://localhost:8080/"
        },
        "outputId": "59150176-bae4-4a97-9731-0031b1260abd"
      },
      "execution_count": null,
      "outputs": [
        {
          "output_type": "stream",
          "name": "stdout",
          "text": [
            "Downloading data from https://storage.googleapis.com/tensorflow/tf-keras-datasets/mnist.npz\n",
            "11490434/11490434 [==============================] - 1s 0us/step\n"
          ]
        }
      ]
    },
    {
      "cell_type": "code",
      "source": [
        "class affine_layer:\n",
        "  def __init__(self,w,b):\n",
        "    self.w = w\n",
        "    self.b = b\n",
        "    self.x = None\n",
        "    self.dw = None\n",
        "    self.db = None\n",
        "\n",
        "  def forward(self,x):\n",
        "    self.x = x\n",
        "    out = np.dot(x,self.w) + self.b\n",
        "\n",
        "    return out\n",
        "\n",
        "  def backward(self,dout):\n",
        "    dx = np.dot(dout, self.w.T)\n",
        "    self.dw = np.dot(self.x.T, dout)\n",
        "    self.db = np.sum(dout,axis=0)\n",
        "\n",
        "    return dx"
      ],
      "metadata": {
        "id": "ucj7vAX1ycvE"
      },
      "execution_count": null,
      "outputs": []
    },
    {
      "cell_type": "code",
      "source": [
        "class Relu:\n",
        "  def __init__(self):\n",
        "    self.mask = None\n",
        "\n",
        "  def forward(self,x):\n",
        "    self.mask = (x<=0)\n",
        "    out = x.copy()\n",
        "    out[self.mask] = 0\n",
        "\n",
        "    return out\n",
        "\n",
        "  def backward(self,dout):\n",
        "    dout[self.mask] = 0\n",
        "    dx = dout\n",
        "\n",
        "    return dx\n"
      ],
      "metadata": {
        "id": "zPmtnwL_2rFs"
      },
      "execution_count": null,
      "outputs": []
    },
    {
      "cell_type": "code",
      "source": [
        "class softmax_with_loss:\n",
        "  def __init__(self):\n",
        "    self.loss = None\n",
        "    self.y = None\n",
        "    self.t = None\n",
        "\n",
        "  def forward(self,x,t):\n",
        "    self.t = t\n",
        "    self.y = softmax(x)\n",
        "    self.loss = crossentropy_loss(self.y, self.t)\n",
        "\n",
        "    return self.loss\n",
        "\n",
        "  def backward(self,dout=1):\n",
        "    batch_size = self.t.shape[0]\n",
        "    dx = (self.y-self.t)/batch_size\n",
        "\n",
        "    return dx\n"
      ],
      "metadata": {
        "id": "N0VN1iX-zcr0"
      },
      "execution_count": null,
      "outputs": []
    },
    {
      "cell_type": "code",
      "source": [
        "class TwoLayerNet:\n",
        "  def __init__(self, input_size, hidden_size, output_size=10):\n",
        "    self.w1 = 0.01 * np.random.randn(input_size, hidden_size)\n",
        "    self.b1 = np.zeros(hidden_size)\n",
        "    self.w2 = 0.01 * np.random.randn(hidden_size, output_size)\n",
        "    self.b2 = np.zeros(output_size)\n",
        "\n",
        "    self.affine1 = affine_layer(self.w1,self.b1)\n",
        "    self.relu1 = Relu()\n",
        "    self.affine2 = affine_layer(self.w2,self.b2)\n",
        "    self.relu2 = Relu()\n",
        "    self.softmaxwithloss = softmax_with_loss()\n",
        "\n",
        "  def forward(self,x):\n",
        "    x = self.affine1.forward(x) # B * hidden\n",
        "    x = self.relu1.forward(x) # B * hidden\n",
        "    x = self.affine2.forward(x)\n",
        "    x = self.relu2.forward(x)\n",
        "\n",
        "    return x\n",
        "\n",
        "  def loss(self,x,label):\n",
        "    x = self.forward(x)\n",
        "    loss = self.softmaxwithloss.forward(x,label)\n",
        "\n",
        "    return loss\n",
        "\n",
        "  def backward(self,x,t):\n",
        "\n",
        "    self.loss(x,t)\n",
        "\n",
        "    dx = self.softmaxwithloss.backward(dout=1) # B * 10\n",
        "    dx = self.relu2.backward(dx) # B * 10\n",
        "    dx = self.affine2.backward(dx)\n",
        "    dx = self.relu1.backward(dx)\n",
        "    dx = self.affine1.backward(dx)\n",
        "    dw2 = self.affine2.dw\n",
        "    db2 = self.affine2.db\n",
        "    dw1 = self.affine1.dw\n",
        "    db1 = self.affine1.db\n",
        "\n",
        "    return dw1, db1, dw2, db2\n",
        "\n",
        "  def accuracy(self,x,t):\n",
        "    y = self.forward(x)\n",
        "    y = np.argmax(y,axis=1)\n",
        "    if t.ndim != 1 : t = np.argmax(t,axis=1)\n",
        "\n",
        "    accuracy = np.sum(y==t) / float(x.shape[0])\n",
        "    return accuracy\n"
      ],
      "metadata": {
        "id": "QXOr39NSwuh7"
      },
      "execution_count": null,
      "outputs": []
    },
    {
      "cell_type": "code",
      "source": [
        "learning_rate = 0.1\n",
        "batch_size = 100\n",
        "epoch = 1\n",
        "len = x_train.shape[0]\n",
        "\n",
        "model = TwoLayerNet(input_size=784,hidden_size=50)\n",
        "\n",
        "for i in range(epoch):\n",
        "  print(f'{i}th epoch launching...')\n",
        "\n",
        "  for j in range(len//batch_size):\n",
        "    idx = np.random.choice(60000,batch_size)\n",
        "    x_batch = x_train[idx]\n",
        "    y_batch = y_train[idx]\n",
        "\n",
        "    dw1, db1, dw2, db2 = model.backward(x_batch, y_batch)\n",
        "\n",
        "    model.w1 -= learning_rate*dw1\n",
        "    model.b1 -= learning_rate*db1\n",
        "    model.w2 -= learning_rate*dw2\n",
        "    model.b2 -= learning_rate*db2\n",
        "\n",
        "    loss = model.loss(x_batch, y_batch)\n",
        "\n",
        "    accuracy = model.accuracy(x_test,y_test)\n",
        "\n",
        "    #print(f'loss:{loss}')\n",
        "    print(f'accuracy:{accuracy}')\n",
        "    #print(f'{model.affine1.b}')\n",
        "\n"
      ],
      "metadata": {
        "colab": {
          "base_uri": "https://localhost:8080/",
          "height": 1000
        },
        "id": "En8hKFdr-sb6",
        "outputId": "9ca76bbe-df77-4d67-c89b-b9857f2d4a5c"
      },
      "execution_count": null,
      "outputs": [
        {
          "output_type": "stream",
          "name": "stdout",
          "text": [
            "0th epoch launching...\n",
            "accuracy:0.1062\n",
            "accuracy:0.0994\n",
            "accuracy:0.1004\n",
            "accuracy:0.1006\n",
            "accuracy:0.1011\n",
            "accuracy:0.1072\n",
            "accuracy:0.1017\n",
            "accuracy:0.1335\n",
            "accuracy:0.101\n",
            "accuracy:0.1013\n",
            "accuracy:0.1009\n",
            "accuracy:0.1256\n",
            "accuracy:0.1019\n",
            "accuracy:0.101\n",
            "accuracy:0.101\n",
            "accuracy:0.0974\n",
            "accuracy:0.0974\n",
            "accuracy:0.0974\n",
            "accuracy:0.0974\n",
            "accuracy:0.0974\n",
            "accuracy:0.101\n",
            "accuracy:0.101\n",
            "accuracy:0.101\n",
            "accuracy:0.101\n",
            "accuracy:0.0958\n",
            "accuracy:0.0958\n",
            "accuracy:0.1032\n",
            "accuracy:0.1032\n",
            "accuracy:0.1032\n",
            "accuracy:0.1032\n",
            "accuracy:0.0958\n",
            "accuracy:0.0958\n",
            "accuracy:0.0958\n",
            "accuracy:0.0958\n",
            "accuracy:0.0958\n",
            "accuracy:0.101\n",
            "accuracy:0.101\n",
            "accuracy:0.101\n",
            "accuracy:0.0958\n",
            "accuracy:0.098\n",
            "accuracy:0.098\n",
            "accuracy:0.101\n",
            "accuracy:0.1032\n",
            "accuracy:0.0958\n",
            "accuracy:0.1032\n",
            "accuracy:0.1032\n",
            "accuracy:0.1009\n",
            "accuracy:0.0958\n",
            "accuracy:0.1009\n",
            "accuracy:0.1032\n",
            "accuracy:0.0974\n",
            "accuracy:0.1032\n",
            "accuracy:0.0974\n",
            "accuracy:0.101\n",
            "accuracy:0.0974\n",
            "accuracy:0.0982\n",
            "accuracy:0.101\n",
            "accuracy:0.101\n",
            "accuracy:0.1009\n",
            "accuracy:0.0974\n",
            "accuracy:0.0974\n",
            "accuracy:0.0974\n",
            "accuracy:0.101\n",
            "accuracy:0.1009\n",
            "accuracy:0.1028\n",
            "accuracy:0.1028\n",
            "accuracy:0.0974\n",
            "accuracy:0.0974\n",
            "accuracy:0.1009\n",
            "accuracy:0.0974\n",
            "accuracy:0.1009\n",
            "accuracy:0.0974\n",
            "accuracy:0.1009\n",
            "accuracy:0.0974\n",
            "accuracy:0.0974\n",
            "accuracy:0.0974\n",
            "accuracy:0.0974\n",
            "accuracy:0.0974\n",
            "accuracy:0.101\n",
            "accuracy:0.1009\n",
            "accuracy:0.0974\n",
            "accuracy:0.101\n",
            "accuracy:0.1032\n",
            "accuracy:0.101\n",
            "accuracy:0.0974\n",
            "accuracy:0.0974\n",
            "accuracy:0.1032\n",
            "accuracy:0.1028\n",
            "accuracy:0.0974\n",
            "accuracy:0.098\n",
            "accuracy:0.098\n",
            "accuracy:0.098\n",
            "accuracy:0.1032\n",
            "accuracy:0.1032\n",
            "accuracy:0.098\n",
            "accuracy:0.0958\n",
            "accuracy:0.1032\n",
            "accuracy:0.0974\n",
            "accuracy:0.098\n",
            "accuracy:0.1032\n",
            "accuracy:0.1032\n",
            "accuracy:0.1009\n",
            "accuracy:0.0958\n",
            "accuracy:0.1032\n",
            "accuracy:0.101\n",
            "accuracy:0.101\n",
            "accuracy:0.101\n",
            "accuracy:0.101\n",
            "accuracy:0.101\n",
            "accuracy:0.101\n",
            "accuracy:0.101\n",
            "accuracy:0.101\n",
            "accuracy:0.0958\n",
            "accuracy:0.098\n",
            "accuracy:0.101\n",
            "accuracy:0.0974\n",
            "accuracy:0.0974\n",
            "accuracy:0.1028\n",
            "accuracy:0.101\n",
            "accuracy:0.101\n",
            "accuracy:0.101\n",
            "accuracy:0.101\n",
            "accuracy:0.1009\n",
            "accuracy:0.1032\n",
            "accuracy:0.101\n",
            "accuracy:0.1032\n",
            "accuracy:0.1032\n",
            "accuracy:0.1032\n",
            "accuracy:0.1032\n",
            "accuracy:0.0892\n",
            "accuracy:0.0974\n",
            "accuracy:0.1032\n",
            "accuracy:0.0974\n",
            "accuracy:0.0974\n",
            "accuracy:0.098\n",
            "accuracy:0.098\n",
            "accuracy:0.098\n",
            "accuracy:0.0958\n",
            "accuracy:0.0958\n",
            "accuracy:0.0958\n",
            "accuracy:0.1009\n",
            "accuracy:0.1009\n",
            "accuracy:0.1032\n",
            "accuracy:0.098\n",
            "accuracy:0.098\n",
            "accuracy:0.098\n",
            "accuracy:0.098\n",
            "accuracy:0.1028\n",
            "accuracy:0.1028\n",
            "accuracy:0.0974\n",
            "accuracy:0.1009\n",
            "accuracy:0.0974\n",
            "accuracy:0.098\n",
            "accuracy:0.101\n",
            "accuracy:0.0974\n",
            "accuracy:0.0974\n",
            "accuracy:0.1009\n",
            "accuracy:0.101\n",
            "accuracy:0.101\n",
            "accuracy:0.098\n",
            "accuracy:0.098\n",
            "accuracy:0.0958\n",
            "accuracy:0.098\n",
            "accuracy:0.098\n",
            "accuracy:0.098\n",
            "accuracy:0.098\n",
            "accuracy:0.098\n",
            "accuracy:0.101\n",
            "accuracy:0.0958\n",
            "accuracy:0.0958\n",
            "accuracy:0.0958\n",
            "accuracy:0.101\n",
            "accuracy:0.0974\n",
            "accuracy:0.0974\n",
            "accuracy:0.0974\n",
            "accuracy:0.1032\n",
            "accuracy:0.1032\n",
            "accuracy:0.1032\n",
            "accuracy:0.101\n",
            "accuracy:0.1032\n",
            "accuracy:0.098\n",
            "accuracy:0.098\n",
            "accuracy:0.098\n",
            "accuracy:0.1032\n",
            "accuracy:0.0974\n",
            "accuracy:0.0974\n",
            "accuracy:0.0974\n",
            "accuracy:0.1032\n"
          ]
        },
        {
          "output_type": "error",
          "ename": "KeyboardInterrupt",
          "evalue": "ignored",
          "traceback": [
            "\u001b[0;31m---------------------------------------------------------------------------\u001b[0m",
            "\u001b[0;31mKeyboardInterrupt\u001b[0m                         Traceback (most recent call last)",
            "\u001b[0;32m<ipython-input-31-9f5a7506769f>\u001b[0m in \u001b[0;36m<cell line: 8>\u001b[0;34m()\u001b[0m\n\u001b[1;32m     23\u001b[0m     \u001b[0mloss\u001b[0m \u001b[0;34m=\u001b[0m \u001b[0mmodel\u001b[0m\u001b[0;34m.\u001b[0m\u001b[0mloss\u001b[0m\u001b[0;34m(\u001b[0m\u001b[0mx_batch\u001b[0m\u001b[0;34m,\u001b[0m \u001b[0my_batch\u001b[0m\u001b[0;34m)\u001b[0m\u001b[0;34m\u001b[0m\u001b[0;34m\u001b[0m\u001b[0m\n\u001b[1;32m     24\u001b[0m \u001b[0;34m\u001b[0m\u001b[0m\n\u001b[0;32m---> 25\u001b[0;31m     \u001b[0maccuracy\u001b[0m \u001b[0;34m=\u001b[0m \u001b[0mmodel\u001b[0m\u001b[0;34m.\u001b[0m\u001b[0maccuracy\u001b[0m\u001b[0;34m(\u001b[0m\u001b[0mx_test\u001b[0m\u001b[0;34m,\u001b[0m\u001b[0my_test\u001b[0m\u001b[0;34m)\u001b[0m\u001b[0;34m\u001b[0m\u001b[0;34m\u001b[0m\u001b[0m\n\u001b[0m\u001b[1;32m     26\u001b[0m \u001b[0;34m\u001b[0m\u001b[0m\n\u001b[1;32m     27\u001b[0m     \u001b[0;31m#print(f'loss:{loss}')\u001b[0m\u001b[0;34m\u001b[0m\u001b[0;34m\u001b[0m\u001b[0m\n",
            "\u001b[0;32m<ipython-input-26-85dbb81e407d>\u001b[0m in \u001b[0;36maccuracy\u001b[0;34m(self, x, t)\u001b[0m\n\u001b[1;32m     43\u001b[0m \u001b[0;34m\u001b[0m\u001b[0m\n\u001b[1;32m     44\u001b[0m   \u001b[0;32mdef\u001b[0m \u001b[0maccuracy\u001b[0m\u001b[0;34m(\u001b[0m\u001b[0mself\u001b[0m\u001b[0;34m,\u001b[0m\u001b[0mx\u001b[0m\u001b[0;34m,\u001b[0m\u001b[0mt\u001b[0m\u001b[0;34m)\u001b[0m\u001b[0;34m:\u001b[0m\u001b[0;34m\u001b[0m\u001b[0;34m\u001b[0m\u001b[0m\n\u001b[0;32m---> 45\u001b[0;31m     \u001b[0my\u001b[0m \u001b[0;34m=\u001b[0m \u001b[0mself\u001b[0m\u001b[0;34m.\u001b[0m\u001b[0mforward\u001b[0m\u001b[0;34m(\u001b[0m\u001b[0mx\u001b[0m\u001b[0;34m)\u001b[0m\u001b[0;34m\u001b[0m\u001b[0;34m\u001b[0m\u001b[0m\n\u001b[0m\u001b[1;32m     46\u001b[0m     \u001b[0my\u001b[0m \u001b[0;34m=\u001b[0m \u001b[0mnp\u001b[0m\u001b[0;34m.\u001b[0m\u001b[0margmax\u001b[0m\u001b[0;34m(\u001b[0m\u001b[0my\u001b[0m\u001b[0;34m,\u001b[0m\u001b[0maxis\u001b[0m\u001b[0;34m=\u001b[0m\u001b[0;36m1\u001b[0m\u001b[0;34m)\u001b[0m\u001b[0;34m\u001b[0m\u001b[0;34m\u001b[0m\u001b[0m\n\u001b[1;32m     47\u001b[0m     \u001b[0;32mif\u001b[0m \u001b[0mt\u001b[0m\u001b[0;34m.\u001b[0m\u001b[0mndim\u001b[0m \u001b[0;34m!=\u001b[0m \u001b[0;36m1\u001b[0m \u001b[0;34m:\u001b[0m \u001b[0mt\u001b[0m \u001b[0;34m=\u001b[0m \u001b[0mnp\u001b[0m\u001b[0;34m.\u001b[0m\u001b[0margmax\u001b[0m\u001b[0;34m(\u001b[0m\u001b[0mt\u001b[0m\u001b[0;34m,\u001b[0m\u001b[0maxis\u001b[0m\u001b[0;34m=\u001b[0m\u001b[0;36m1\u001b[0m\u001b[0;34m)\u001b[0m\u001b[0;34m\u001b[0m\u001b[0;34m\u001b[0m\u001b[0m\n",
            "\u001b[0;32m<ipython-input-26-85dbb81e407d>\u001b[0m in \u001b[0;36mforward\u001b[0;34m(self, x)\u001b[0m\n\u001b[1;32m     13\u001b[0m \u001b[0;34m\u001b[0m\u001b[0m\n\u001b[1;32m     14\u001b[0m   \u001b[0;32mdef\u001b[0m \u001b[0mforward\u001b[0m\u001b[0;34m(\u001b[0m\u001b[0mself\u001b[0m\u001b[0;34m,\u001b[0m\u001b[0mx\u001b[0m\u001b[0;34m)\u001b[0m\u001b[0;34m:\u001b[0m\u001b[0;34m\u001b[0m\u001b[0;34m\u001b[0m\u001b[0m\n\u001b[0;32m---> 15\u001b[0;31m     \u001b[0mx\u001b[0m \u001b[0;34m=\u001b[0m \u001b[0mself\u001b[0m\u001b[0;34m.\u001b[0m\u001b[0maffine1\u001b[0m\u001b[0;34m.\u001b[0m\u001b[0mforward\u001b[0m\u001b[0;34m(\u001b[0m\u001b[0mx\u001b[0m\u001b[0;34m)\u001b[0m \u001b[0;31m# B * hidden\u001b[0m\u001b[0;34m\u001b[0m\u001b[0;34m\u001b[0m\u001b[0m\n\u001b[0m\u001b[1;32m     16\u001b[0m     \u001b[0mx\u001b[0m \u001b[0;34m=\u001b[0m \u001b[0mself\u001b[0m\u001b[0;34m.\u001b[0m\u001b[0mrelu1\u001b[0m\u001b[0;34m.\u001b[0m\u001b[0mforward\u001b[0m\u001b[0;34m(\u001b[0m\u001b[0mx\u001b[0m\u001b[0;34m)\u001b[0m \u001b[0;31m# B * hidden\u001b[0m\u001b[0;34m\u001b[0m\u001b[0;34m\u001b[0m\u001b[0m\n\u001b[1;32m     17\u001b[0m     \u001b[0mx\u001b[0m \u001b[0;34m=\u001b[0m \u001b[0mself\u001b[0m\u001b[0;34m.\u001b[0m\u001b[0maffine2\u001b[0m\u001b[0;34m.\u001b[0m\u001b[0mforward\u001b[0m\u001b[0;34m(\u001b[0m\u001b[0mx\u001b[0m\u001b[0;34m)\u001b[0m\u001b[0;34m\u001b[0m\u001b[0;34m\u001b[0m\u001b[0m\n",
            "\u001b[0;32m<ipython-input-17-cf391aba246f>\u001b[0m in \u001b[0;36mforward\u001b[0;34m(self, x)\u001b[0m\n\u001b[1;32m      9\u001b[0m   \u001b[0;32mdef\u001b[0m \u001b[0mforward\u001b[0m\u001b[0;34m(\u001b[0m\u001b[0mself\u001b[0m\u001b[0;34m,\u001b[0m\u001b[0mx\u001b[0m\u001b[0;34m)\u001b[0m\u001b[0;34m:\u001b[0m\u001b[0;34m\u001b[0m\u001b[0;34m\u001b[0m\u001b[0m\n\u001b[1;32m     10\u001b[0m     \u001b[0mself\u001b[0m\u001b[0;34m.\u001b[0m\u001b[0mx\u001b[0m \u001b[0;34m=\u001b[0m \u001b[0mx\u001b[0m\u001b[0;34m\u001b[0m\u001b[0;34m\u001b[0m\u001b[0m\n\u001b[0;32m---> 11\u001b[0;31m     \u001b[0mout\u001b[0m \u001b[0;34m=\u001b[0m \u001b[0mnp\u001b[0m\u001b[0;34m.\u001b[0m\u001b[0mdot\u001b[0m\u001b[0;34m(\u001b[0m\u001b[0mx\u001b[0m\u001b[0;34m,\u001b[0m\u001b[0mself\u001b[0m\u001b[0;34m.\u001b[0m\u001b[0mw\u001b[0m\u001b[0;34m)\u001b[0m \u001b[0;34m+\u001b[0m \u001b[0mself\u001b[0m\u001b[0;34m.\u001b[0m\u001b[0mb\u001b[0m\u001b[0;34m\u001b[0m\u001b[0;34m\u001b[0m\u001b[0m\n\u001b[0m\u001b[1;32m     12\u001b[0m \u001b[0;34m\u001b[0m\u001b[0m\n\u001b[1;32m     13\u001b[0m     \u001b[0;32mreturn\u001b[0m \u001b[0mout\u001b[0m\u001b[0;34m\u001b[0m\u001b[0;34m\u001b[0m\u001b[0m\n",
            "\u001b[0;32m/usr/local/lib/python3.10/dist-packages/numpy/core/overrides.py\u001b[0m in \u001b[0;36mdot\u001b[0;34m(*args, **kwargs)\u001b[0m\n",
            "\u001b[0;31mKeyboardInterrupt\u001b[0m: "
          ]
        }
      ]
    },
    {
      "cell_type": "code",
      "source": [],
      "metadata": {
        "id": "ZkCqfGFY-sSE"
      },
      "execution_count": null,
      "outputs": []
    },
    {
      "cell_type": "code",
      "source": [],
      "metadata": {
        "id": "NUVybvvd-sPk"
      },
      "execution_count": null,
      "outputs": []
    }
  ]
}